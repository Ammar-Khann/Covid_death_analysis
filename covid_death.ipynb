{
 "cells": [
  {
   "cell_type": "code",
   "execution_count": 2,
   "id": "66fd4f0d-981d-4a04-9570-da06e8baffe1",
   "metadata": {},
   "outputs": [],
   "source": [
    "import pandas as pd"
   ]
  },
  {
   "cell_type": "code",
   "execution_count": 3,
   "id": "31bf79fc-988e-46e0-aa7c-61a423b0b25b",
   "metadata": {},
   "outputs": [],
   "source": [
    "df = pd.read_csv(r\"C:\\Users\\hp\\Downloads\\DA\\DA Projects\\Covid deaths\\weekly-covid-deaths-per-million-people\\weekly-covid-deaths-per-million-people.csv\")\n",
    "\n",
    "pdf = df"
   ]
  },
  {
   "cell_type": "code",
   "execution_count": 4,
   "id": "d28b7ae1-008e-49c2-8544-d50c4930a1d9",
   "metadata": {
    "scrolled": true
   },
   "outputs": [
    {
     "data": {
      "text/html": [
       "<div>\n",
       "<style scoped>\n",
       "    .dataframe tbody tr th:only-of-type {\n",
       "        vertical-align: middle;\n",
       "    }\n",
       "\n",
       "    .dataframe tbody tr th {\n",
       "        vertical-align: top;\n",
       "    }\n",
       "\n",
       "    .dataframe thead th {\n",
       "        text-align: right;\n",
       "    }\n",
       "</style>\n",
       "<table border=\"1\" class=\"dataframe\">\n",
       "  <thead>\n",
       "    <tr style=\"text-align: right;\">\n",
       "      <th></th>\n",
       "      <th>Entity</th>\n",
       "      <th>Code</th>\n",
       "      <th>Day</th>\n",
       "      <th>Weekly deaths per million people</th>\n",
       "    </tr>\n",
       "  </thead>\n",
       "  <tbody>\n",
       "    <tr>\n",
       "      <th>0</th>\n",
       "      <td>Afghanistan</td>\n",
       "      <td>AFG</td>\n",
       "      <td>2020-01-09</td>\n",
       "      <td>0.0</td>\n",
       "    </tr>\n",
       "    <tr>\n",
       "      <th>1</th>\n",
       "      <td>Afghanistan</td>\n",
       "      <td>AFG</td>\n",
       "      <td>2020-01-10</td>\n",
       "      <td>0.0</td>\n",
       "    </tr>\n",
       "    <tr>\n",
       "      <th>2</th>\n",
       "      <td>Afghanistan</td>\n",
       "      <td>AFG</td>\n",
       "      <td>2020-01-11</td>\n",
       "      <td>0.0</td>\n",
       "    </tr>\n",
       "    <tr>\n",
       "      <th>3</th>\n",
       "      <td>Afghanistan</td>\n",
       "      <td>AFG</td>\n",
       "      <td>2020-01-12</td>\n",
       "      <td>0.0</td>\n",
       "    </tr>\n",
       "    <tr>\n",
       "      <th>4</th>\n",
       "      <td>Afghanistan</td>\n",
       "      <td>AFG</td>\n",
       "      <td>2020-01-13</td>\n",
       "      <td>0.0</td>\n",
       "    </tr>\n",
       "    <tr>\n",
       "      <th>...</th>\n",
       "      <td>...</td>\n",
       "      <td>...</td>\n",
       "      <td>...</td>\n",
       "      <td>...</td>\n",
       "    </tr>\n",
       "    <tr>\n",
       "      <th>488658</th>\n",
       "      <td>Zimbabwe</td>\n",
       "      <td>ZWE</td>\n",
       "      <td>2025-05-28</td>\n",
       "      <td>0.0</td>\n",
       "    </tr>\n",
       "    <tr>\n",
       "      <th>488659</th>\n",
       "      <td>Zimbabwe</td>\n",
       "      <td>ZWE</td>\n",
       "      <td>2025-05-29</td>\n",
       "      <td>0.0</td>\n",
       "    </tr>\n",
       "    <tr>\n",
       "      <th>488660</th>\n",
       "      <td>Zimbabwe</td>\n",
       "      <td>ZWE</td>\n",
       "      <td>2025-05-30</td>\n",
       "      <td>0.0</td>\n",
       "    </tr>\n",
       "    <tr>\n",
       "      <th>488661</th>\n",
       "      <td>Zimbabwe</td>\n",
       "      <td>ZWE</td>\n",
       "      <td>2025-05-31</td>\n",
       "      <td>0.0</td>\n",
       "    </tr>\n",
       "    <tr>\n",
       "      <th>488662</th>\n",
       "      <td>Zimbabwe</td>\n",
       "      <td>ZWE</td>\n",
       "      <td>2025-06-01</td>\n",
       "      <td>0.0</td>\n",
       "    </tr>\n",
       "  </tbody>\n",
       "</table>\n",
       "<p>488663 rows × 4 columns</p>\n",
       "</div>"
      ],
      "text/plain": [
       "             Entity Code         Day  Weekly deaths per million people\n",
       "0       Afghanistan  AFG  2020-01-09                               0.0\n",
       "1       Afghanistan  AFG  2020-01-10                               0.0\n",
       "2       Afghanistan  AFG  2020-01-11                               0.0\n",
       "3       Afghanistan  AFG  2020-01-12                               0.0\n",
       "4       Afghanistan  AFG  2020-01-13                               0.0\n",
       "...             ...  ...         ...                               ...\n",
       "488658     Zimbabwe  ZWE  2025-05-28                               0.0\n",
       "488659     Zimbabwe  ZWE  2025-05-29                               0.0\n",
       "488660     Zimbabwe  ZWE  2025-05-30                               0.0\n",
       "488661     Zimbabwe  ZWE  2025-05-31                               0.0\n",
       "488662     Zimbabwe  ZWE  2025-06-01                               0.0\n",
       "\n",
       "[488663 rows x 4 columns]"
      ]
     },
     "execution_count": 4,
     "metadata": {},
     "output_type": "execute_result"
    }
   ],
   "source": [
    "pdf"
   ]
  },
  {
   "cell_type": "code",
   "execution_count": 5,
   "id": "8dad3810-c641-4241-83b5-be2ac68182d5",
   "metadata": {},
   "outputs": [
    {
     "data": {
      "text/plain": [
       "2227685.890240312"
      ]
     },
     "execution_count": 5,
     "metadata": {},
     "output_type": "execute_result"
    }
   ],
   "source": [
    "pdf['Weekly deaths per million people'].sum()"
   ]
  },
  {
   "cell_type": "code",
   "execution_count": 6,
   "id": "70b308f7-ed2b-4043-a63c-87d58fb2df89",
   "metadata": {},
   "outputs": [],
   "source": [
    "pdf['Weekly deaths per million people'] = pdf['Weekly deaths per million people'].round(3)"
   ]
  },
  {
   "cell_type": "code",
   "execution_count": 7,
   "id": "3919b213-0369-4f9f-892f-49ee75e1af5e",
   "metadata": {},
   "outputs": [],
   "source": [
    "import matplotlib.pyplot as plt\n",
    "import seaborn as sns\n"
   ]
  },
  {
   "cell_type": "code",
   "execution_count": null,
   "id": "6988698d-0461-4851-8745-6cbf12bae577",
   "metadata": {},
   "outputs": [],
   "source": []
  },
  {
   "cell_type": "code",
   "execution_count": 8,
   "id": "f252803f-0fb4-4acd-9a6a-6bc0e9f0cbbb",
   "metadata": {},
   "outputs": [
    {
     "name": "stdout",
     "output_type": "stream",
     "text": [
      "['Afghanistan' 'Africa' 'Albania' 'Algeria' 'American Samoa' 'Andorra'\n",
      " 'Angola' 'Anguilla' 'Antigua and Barbuda' 'Argentina' 'Armenia' 'Aruba'\n",
      " 'Asia' 'Asia excl. China' 'Australia' 'Austria' 'Azerbaijan' 'Bahamas'\n",
      " 'Bahrain' 'Bangladesh' 'Barbados' 'Belarus' 'Belgium' 'Belize' 'Benin'\n",
      " 'Bermuda' 'Bhutan' 'Bolivia' 'Bonaire Sint Eustatius and Saba'\n",
      " 'Bosnia and Herzegovina' 'Botswana' 'Brazil' 'British Virgin Islands'\n",
      " 'Brunei' 'Bulgaria' 'Burkina Faso' 'Burundi' 'Cambodia' 'Cameroon'\n",
      " 'Canada' 'Cape Verde' 'Cayman Islands' 'Central African Republic' 'Chad'\n",
      " 'Chile' 'China' 'Colombia' 'Comoros' 'Congo' 'Cook Islands' 'Costa Rica'\n",
      " 'Croatia' 'Cuba' 'Curacao' 'Cyprus' 'Czechia'\n",
      " 'Democratic Republic of Congo' 'Denmark' 'Djibouti' 'Dominica'\n",
      " 'Dominican Republic' 'East Timor' 'Ecuador' 'Egypt' 'El Salvador'\n",
      " 'Equatorial Guinea' 'Eritrea' 'Estonia' 'Eswatini' 'Ethiopia' 'Europe'\n",
      " 'European Union (27)' 'Falkland Islands' 'Faroe Islands' 'Fiji' 'Finland'\n",
      " 'France' 'French Guiana' 'French Polynesia' 'Gabon' 'Gambia' 'Georgia'\n",
      " 'Germany' 'Ghana' 'Gibraltar' 'Greece' 'Greenland' 'Grenada' 'Guadeloupe'\n",
      " 'Guam' 'Guatemala' 'Guernsey' 'Guinea' 'Guinea-Bissau' 'Guyana' 'Haiti'\n",
      " 'High-income countries' 'Honduras' 'Hungary' 'Iceland' 'India'\n",
      " 'Indonesia' 'Iran' 'Iraq' 'Ireland' 'Isle of Man' 'Israel' 'Italy'\n",
      " 'Jamaica' 'Japan' 'Jersey' 'Jordan' 'Kazakhstan' 'Kenya' 'Kiribati'\n",
      " 'Kosovo' 'Kuwait' 'Kyrgyzstan' 'Laos' 'Latvia' 'Lebanon' 'Lesotho'\n",
      " 'Liberia' 'Libya' 'Liechtenstein' 'Lithuania' 'Low-income countries'\n",
      " 'Lower-middle-income countries' 'Luxembourg' 'Madagascar' 'Malawi'\n",
      " 'Malaysia' 'Maldives' 'Mali' 'Malta' 'Marshall Islands' 'Martinique'\n",
      " 'Mauritania' 'Mauritius' 'Mayotte' 'Mexico' 'Micronesia (country)'\n",
      " 'Moldova' 'Monaco' 'Mongolia' 'Montenegro' 'Montserrat' 'Morocco'\n",
      " 'Mozambique' 'Myanmar' 'Namibia' 'Nauru' 'Nepal' 'Netherlands'\n",
      " 'New Caledonia' 'New Zealand' 'Nicaragua' 'Niger' 'Nigeria' 'Niue'\n",
      " 'North America' 'North Korea' 'North Macedonia'\n",
      " 'Northern Mariana Islands' 'Norway' 'Oceania' 'Oman' 'Pakistan' 'Palau'\n",
      " 'Palestine' 'Panama' 'Papua New Guinea' 'Paraguay' 'Peru' 'Philippines'\n",
      " 'Pitcairn' 'Poland' 'Portugal' 'Puerto Rico' 'Qatar' 'Reunion' 'Romania'\n",
      " 'Russia' 'Rwanda' 'Saint Barthelemy' 'Saint Helena'\n",
      " 'Saint Kitts and Nevis' 'Saint Lucia' 'Saint Martin (French part)'\n",
      " 'Saint Pierre and Miquelon' 'Saint Vincent and the Grenadines' 'Samoa'\n",
      " 'San Marino' 'Sao Tome and Principe' 'Saudi Arabia' 'Senegal' 'Serbia'\n",
      " 'Seychelles' 'Sierra Leone' 'Singapore' 'Sint Maarten (Dutch part)'\n",
      " 'Slovakia' 'Slovenia' 'Solomon Islands' 'Somalia' 'South Africa'\n",
      " 'South America' 'South Korea' 'South Sudan' 'Spain' 'Sri Lanka' 'Sudan'\n",
      " 'Suriname' 'Sweden' 'Switzerland' 'Syria' 'Tajikistan' 'Tanzania'\n",
      " 'Thailand' 'Togo' 'Tokelau' 'Tonga' 'Trinidad and Tobago' 'Tunisia'\n",
      " 'Turkey' 'Turkmenistan' 'Turks and Caicos Islands' 'Tuvalu' 'Uganda'\n",
      " 'Ukraine' 'United Arab Emirates' 'United Kingdom' 'United States'\n",
      " 'United States Virgin Islands' 'Upper-middle-income countries' 'Uruguay'\n",
      " 'Uzbekistan' 'Vanuatu' 'Vatican' 'Venezuela' 'Vietnam'\n",
      " 'Wallis and Futuna' 'World' 'World excl. China'\n",
      " 'World excl. China and South Korea'\n",
      " 'World excl. China, South Korea, Japan and Singapore' 'Yemen' 'Zambia'\n",
      " 'Zimbabwe']\n"
     ]
    }
   ],
   "source": [
    "print(pdf[\"Entity\"].unique())"
   ]
  },
  {
   "cell_type": "code",
   "execution_count": 9,
   "id": "c1d0a64c-eb2b-4925-a19c-314b33f3dc95",
   "metadata": {},
   "outputs": [],
   "source": [
    "fdp = pdf"
   ]
  },
  {
   "cell_type": "code",
   "execution_count": 10,
   "id": "23456e4f-5385-4345-bde7-b5870828f087",
   "metadata": {},
   "outputs": [],
   "source": [
    "unwanted = [\n",
    "    \"World\", \"Africa\", \"Asia\", \"Europe\", \"Oceania\", \"North America\", \"South America\",\n",
    "    \"European Union (27)\", \"High-income countries\", \"Lower-middle-income countries\",\n",
    "    \"Upper-middle-income countries\", \"World excl. China\", \"World excl. China and South Korea\",\n",
    "    \"World excl. China, South Korea, Japan and Singapore\",\n",
    "\n",
    "    # Add territories if you want to exclude them too\n",
    "    \"American Samoa\", \"Anguilla\", \"Aruba\", \"Bermuda\", \"Bonaire Sint Eustatius and Saba\",\n",
    "    \"British Virgin Islands\", \"Cayman Islands\", \"Cook Islands\", \"Curacao\", \"Falkland Islands\",\n",
    "    \"Faroe Islands\", \"French Guiana\", \"French Polynesia\", \"Gibraltar\", \"Guadeloupe\", \"Guam\",\n",
    "    \"Guernsey\", \"Isle of Man\", \"Jersey\", \"Kosovo\", \"Martinique\", \"Mayotte\", \"Montserrat\",\n",
    "    \"New Caledonia\", \"Niue\", \"Northern Mariana Islands\", \"Pitcairn\", \"Reunion\",\n",
    "    \"Saint Barthelemy\", \"Saint Helena\", \"Saint Martin (French part)\", \"Saint Pierre and Miquelon\",\n",
    "    \"Sint Maarten (Dutch part)\", \"Tokelau\", \"Turks and Caicos Islands\",\n",
    "    \"United States Virgin Islands\", \"Wallis and Futuna\"\n",
    "]"
   ]
  },
  {
   "cell_type": "code",
   "execution_count": 11,
   "id": "171e7064-727f-4a4a-80bf-ef048034198c",
   "metadata": {},
   "outputs": [],
   "source": [
    "fdp = fdp[~fdp[\"Entity\"].isin(unwanted)]\n"
   ]
  },
  {
   "cell_type": "code",
   "execution_count": 20,
   "id": "9cc0c3f3-459a-42c1-9728-3af55726b8b0",
   "metadata": {},
   "outputs": [],
   "source": [
    "more_unwant = ['Asia excl. China' ,'Low-income countries' ]"
   ]
  },
  {
   "cell_type": "code",
   "execution_count": 22,
   "id": "1e400033-2919-4f83-aab8-268922fdef1b",
   "metadata": {},
   "outputs": [],
   "source": [
    "fdp = fdp[~fdp[\"Entity\"].isin(more_unwant)]"
   ]
  },
  {
   "cell_type": "code",
   "execution_count": 12,
   "id": "3583e16a-3400-49dd-8336-dcf068819741",
   "metadata": {},
   "outputs": [
    {
     "data": {
      "text/html": [
       "<div>\n",
       "<style scoped>\n",
       "    .dataframe tbody tr th:only-of-type {\n",
       "        vertical-align: middle;\n",
       "    }\n",
       "\n",
       "    .dataframe tbody tr th {\n",
       "        vertical-align: top;\n",
       "    }\n",
       "\n",
       "    .dataframe thead th {\n",
       "        text-align: right;\n",
       "    }\n",
       "</style>\n",
       "<table border=\"1\" class=\"dataframe\">\n",
       "  <thead>\n",
       "    <tr style=\"text-align: right;\">\n",
       "      <th></th>\n",
       "      <th>Entity</th>\n",
       "      <th>Code</th>\n",
       "      <th>Day</th>\n",
       "      <th>Weekly deaths per million people</th>\n",
       "    </tr>\n",
       "  </thead>\n",
       "  <tbody>\n",
       "    <tr>\n",
       "      <th>0</th>\n",
       "      <td>Afghanistan</td>\n",
       "      <td>AFG</td>\n",
       "      <td>2020-01-09</td>\n",
       "      <td>0.0</td>\n",
       "    </tr>\n",
       "    <tr>\n",
       "      <th>1</th>\n",
       "      <td>Afghanistan</td>\n",
       "      <td>AFG</td>\n",
       "      <td>2020-01-10</td>\n",
       "      <td>0.0</td>\n",
       "    </tr>\n",
       "    <tr>\n",
       "      <th>2</th>\n",
       "      <td>Afghanistan</td>\n",
       "      <td>AFG</td>\n",
       "      <td>2020-01-11</td>\n",
       "      <td>0.0</td>\n",
       "    </tr>\n",
       "    <tr>\n",
       "      <th>3</th>\n",
       "      <td>Afghanistan</td>\n",
       "      <td>AFG</td>\n",
       "      <td>2020-01-12</td>\n",
       "      <td>0.0</td>\n",
       "    </tr>\n",
       "    <tr>\n",
       "      <th>4</th>\n",
       "      <td>Afghanistan</td>\n",
       "      <td>AFG</td>\n",
       "      <td>2020-01-13</td>\n",
       "      <td>0.0</td>\n",
       "    </tr>\n",
       "    <tr>\n",
       "      <th>...</th>\n",
       "      <td>...</td>\n",
       "      <td>...</td>\n",
       "      <td>...</td>\n",
       "      <td>...</td>\n",
       "    </tr>\n",
       "    <tr>\n",
       "      <th>488658</th>\n",
       "      <td>Zimbabwe</td>\n",
       "      <td>ZWE</td>\n",
       "      <td>2025-05-28</td>\n",
       "      <td>0.0</td>\n",
       "    </tr>\n",
       "    <tr>\n",
       "      <th>488659</th>\n",
       "      <td>Zimbabwe</td>\n",
       "      <td>ZWE</td>\n",
       "      <td>2025-05-29</td>\n",
       "      <td>0.0</td>\n",
       "    </tr>\n",
       "    <tr>\n",
       "      <th>488660</th>\n",
       "      <td>Zimbabwe</td>\n",
       "      <td>ZWE</td>\n",
       "      <td>2025-05-30</td>\n",
       "      <td>0.0</td>\n",
       "    </tr>\n",
       "    <tr>\n",
       "      <th>488661</th>\n",
       "      <td>Zimbabwe</td>\n",
       "      <td>ZWE</td>\n",
       "      <td>2025-05-31</td>\n",
       "      <td>0.0</td>\n",
       "    </tr>\n",
       "    <tr>\n",
       "      <th>488662</th>\n",
       "      <td>Zimbabwe</td>\n",
       "      <td>ZWE</td>\n",
       "      <td>2025-06-01</td>\n",
       "      <td>0.0</td>\n",
       "    </tr>\n",
       "  </tbody>\n",
       "</table>\n",
       "<p>388146 rows × 4 columns</p>\n",
       "</div>"
      ],
      "text/plain": [
       "             Entity Code         Day  Weekly deaths per million people\n",
       "0       Afghanistan  AFG  2020-01-09                               0.0\n",
       "1       Afghanistan  AFG  2020-01-10                               0.0\n",
       "2       Afghanistan  AFG  2020-01-11                               0.0\n",
       "3       Afghanistan  AFG  2020-01-12                               0.0\n",
       "4       Afghanistan  AFG  2020-01-13                               0.0\n",
       "...             ...  ...         ...                               ...\n",
       "488658     Zimbabwe  ZWE  2025-05-28                               0.0\n",
       "488659     Zimbabwe  ZWE  2025-05-29                               0.0\n",
       "488660     Zimbabwe  ZWE  2025-05-30                               0.0\n",
       "488661     Zimbabwe  ZWE  2025-05-31                               0.0\n",
       "488662     Zimbabwe  ZWE  2025-06-01                               0.0\n",
       "\n",
       "[388146 rows x 4 columns]"
      ]
     },
     "execution_count": 12,
     "metadata": {},
     "output_type": "execute_result"
    }
   ],
   "source": [
    "fdp"
   ]
  },
  {
   "cell_type": "code",
   "execution_count": 13,
   "id": "707b5fa8-8cb3-48c0-9bbd-b9e047f9c700",
   "metadata": {},
   "outputs": [],
   "source": [
    "fdp.reset_index(drop = True , inplace = True)"
   ]
  },
  {
   "cell_type": "code",
   "execution_count": 14,
   "id": "25137859-c0a7-4bc4-9f3e-7a72c08680d0",
   "metadata": {},
   "outputs": [],
   "source": [
    "mean = fdp.groupby(\"Entity\")['Weekly deaths per million people'].mean()"
   ]
  },
  {
   "cell_type": "code",
   "execution_count": 15,
   "id": "14d09edc-2473-4b0f-9c3a-2fdbf80f4386",
   "metadata": {},
   "outputs": [
    {
     "data": {
      "text/plain": [
       "<Axes: title={'center': 'Weekly Death Trend - India'}, xlabel='Day'>"
      ]
     },
     "execution_count": 15,
     "metadata": {},
     "output_type": "execute_result"
    },
    {
     "data": {
      "image/png": "[encoded data removed]",
      "text/plain": [
       "<Figure size 1400x600 with 1 Axes>"
      ]
     },
     "metadata": {},
     "output_type": "display_data"
    }
   ],
   "source": [
    "fdp[fdp[\"Entity\"] == \"India\"].plot(\n",
    "    x=\"Day\", y=\"Weekly deaths per million people\", kind=\"line\", figsize=(14, 6), title=\"Weekly Death Trend - India\"\n",
    ")\n"
   ]
  },
  {
   "cell_type": "code",
   "execution_count": null,
   "id": "99b4398d-7d8a-4075-aa2a-f56cee7aa358",
   "metadata": {},
   "outputs": [],
   "source": []
  },
  {
   "cell_type": "code",
   "execution_count": 18,
   "id": "97f146a2-5e4b-4113-8817-78a3e182c5f6",
   "metadata": {},
   "outputs": [],
   "source": [
    "fdp.to_csv(\"cleaned_covid_deaths.csv\", index = False)"
   ]
  },
  {
   "cell_type": "code",
   "execution_count": null,
   "id": "73f01b99-4346-444f-8d19-3bbcab1f1405",
   "metadata": {},
   "outputs": [],
   "source": []
  }
 ],
 "metadata": {
  "kernelspec": {
   "display_name": "Python [conda env:base] *",
   "language": "python",
   "name": "conda-base-py"
  },
  "language_info": {
   "codemirror_mode": {
    "name": "ipython",
    "version": 3
   },
   "file_extension": ".py",
   "mimetype": "text/x-python",
   "name": "python",
   "nbconvert_exporter": "python",
   "pygments_lexer": "ipython3",
   "version": "3.12.7"
  }
 },
 "nbformat": 4,
 "nbformat_minor": 5
}
